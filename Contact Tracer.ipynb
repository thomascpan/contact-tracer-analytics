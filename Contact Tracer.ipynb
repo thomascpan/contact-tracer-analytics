{
 "cells": [
  {
   "cell_type": "markdown",
   "metadata": {},
   "source": [
    "# Contact Tracer\n",
    "\n",
    "## Introduction\n",
    "\n",
    "Contact Tracer is a contact tracing system designed to combat the transmission of infectious diseases and pandemics. Contact Tracer is designed to assist traditional contact tracing by automatically logging an individual's contacts by detecting them via Bluetooth signals. Data is stored securely on a users device and is shared only where the user grants explicit permission. \n",
    "\n",
    "![Welcome](img/welcome.jpeg)\n",
    "\n",
    "Contact Tracer is easy to use. Just sign up and leave the app on. It will automatically record nearby devices with the contact tracer installed. \n",
    "\n",
    "![Signup](img/signup.jpeg) ![Home](img/home.jpeg)"
   ]
  },
  {
   "cell_type": "markdown",
   "metadata": {},
   "source": [
    "### Background\n",
    "\n",
    "#### Contact Tracing\n",
    "The process of identification of persons who may have come into contact with an infected person (\"contacts\") and subsequent collection of further information about these contacts.\n",
    "\n",
    "#### Goals\n",
    "- Interrupt ongoing transmission and reduce spread of an infection\n",
    "- Alert contacts to the possibility of infection and offer preventive counseling or prophylactic care\n",
    "- Offer diagnosis, counseling and treatment to already infected individuals\n",
    "- Help prevent reinfection\n",
    "- Learn about the epidemiology of a disease in a particular population\n"
   ]
  },
  {
   "cell_type": "markdown",
   "metadata": {},
   "source": [
    "### Data\n",
    "\n",
    "Due to lack of organically gathered daa, we utilize data from NYC MTA buses service. [Source](https://www.google.com)\n",
    "\n",
    "To simulate our data, we transform their GPS logs over a 7 day period into a log of contacts. We log all instances in which two buses are located within a certain amount of distance of each other for a given time period.\n",
    "\n",
    "#### Other Stats\n",
    "- Individuals(Buses): 5719\n",
    "- Days: 7\n",
    "- Logs: 248900\n",
    "\n",
    "*Disclaimer: While we do our analysis on this dataset as a proof of concept, it is unlikely that it is similar to real data."
   ]
  },
  {
   "cell_type": "markdown",
   "metadata": {},
   "source": [
    "## Code and Analysis\n",
    "\n",
    "When a user's contacts are synced to Contact Tracer's backend, it essentially formed a network of individuals and their contacts. Here the nodes are individuals, and the edges represent who an individual has come into contact during a certain time period. With our contacts collected, we can now perform a variety of analytics. Here we demonstrate two examples: Connected Components(CC) and Ranking.\n",
    "\n",
    "### Connected Components\n",
    "\n",
    "For CC, we are simply interested in finding a subgraph in which any two contacts are connected to each other. Although simple, this is perhaps, the most important analysis to perform. When an infected person is identified, a CC indentifies all the individuals who may have come into contact with the infected person and who may be potentially infected themselves.\n",
    "\n",
    "### Ranking\n",
    "\n",
    "For Ranking, we are interested in assigning a rank or priority to individuals. A rank, in this case, can be thought of their potential to transmit a disease. As such, public health authorities should contact high ranked individuals first to mitigate the spread of a virus."
   ]
  },
  {
   "cell_type": "markdown",
   "metadata": {},
   "source": [
    "##### Import\n",
    "\n",
    "We first start by importing some libraries."
   ]
  },
  {
   "cell_type": "code",
   "execution_count": null,
   "metadata": {},
   "outputs": [],
   "source": [
    "# data analysis and manipulation tool.\n",
    "import pandas as pd\n",
    "# scientific and vector computation for python\n",
    "import numpy as np\n",
    "# geocoing tool\n",
    "import geopy.distance\n",
    "# complex network tool\n",
    "import networkx as nx\n",
    "# plotting library\n",
    "import matplotlib.pyplot as plt\n",
    "\n",
    "import operator\n",
    "from datetime import timedelta\n",
    "\n",
    "# tells matplotlib to embed plots within the notebook\n",
    "%matplotlib inline\n",
    "\n",
    "# column names for our data\n",
    "COLUMN_NAMES = [\"datetime\", \"source\", \"target\"]"
   ]
  },
  {
   "cell_type": "markdown",
   "metadata": {},
   "source": [
    "##### Helper Functions\n",
    "\n",
    "Next we define a few helper functions."
   ]
  },
  {
   "cell_type": "code",
   "execution_count": null,
   "metadata": {},
   "outputs": [],
   "source": [
    "def distance(lat1: str, long1: str, lat2: str, long2: str) -> float:\n",
    "    \"\"\" Calculates distance between two coordinates\n",
    "    Args:\n",
    "        lat1 (str): latitude of first point\n",
    "        long1 (str): longitude of first point\n",
    "        lat2 (str): latitude of seocnd point\n",
    "        long2 (str): longitude of second point\n",
    "    Returns:\n",
    "        float: distance between two points in feet\n",
    "    \"\"\"\n",
    "    return geopy.distance.distance((lat1, long1), (lat2, long2)).feet\n",
    "\n",
    "\n",
    "def withinDistance(row1: pd.core.series.Series, row2: pd.core.series.Series, threshold: int = 10) -> bool:\n",
    "    \"\"\" Determines whether two buses were within distance of each other\n",
    "    Args:\n",
    "        row1 (pd.core.series.Series): record of a bus gps location\n",
    "        row2 (pd.core.series.Series): record of a bus gps location\n",
    "        threshold (int): distance threshold or max distance apart\n",
    "    Returns:\n",
    "        bool: whether buses where within distance of each other\n",
    "    \"\"\"\n",
    "    return distance(row1.latitude, row1.longitude, row2.latitude, row2.longitude) <= threshold\n",
    "\n",
    "\n",
    "def withinTime(row1: pd.core.series.Series, row2: pd.core.series.Series, threshold: int = 60) -> bool:\n",
    "    \"\"\" Determines whether two buses were within a certain time period of each other\n",
    "    Args:\n",
    "        row1 (pd.core.series.Series): record of a bus gps location\n",
    "        row2 (pd.core.series.Series): record of a bus gps location\n",
    "        threshold (int): time threshold or max time apart\n",
    "    Returns:\n",
    "        bool: whether two buses were within a certain time period of each other\n",
    "    \"\"\"\n",
    "    return abs((row1.datetime - row2.datetime).total_seconds()) <= threshold\n",
    "\n",
    "\n",
    "def meanTimestamp(row1: pd.core.series.Series, row2: pd.core.series.Series) -> pd._libs.tslibs.timestamps.Timestamp:\n",
    "    \"\"\" Gets the average of two timestamps\n",
    "    Args:\n",
    "        row1 (pd.core.series.Series): record of a bus gps location\n",
    "        row2 (pd.core.series.Series): record of a bus gps location\n",
    "    Returns:\n",
    "        pd._libs.tslibs.timestamps.Timestamp: average timestamp of two bus records\n",
    "    \"\"\"\n",
    "    return row1.datetime + (row2.datetime - row1.datetime) / 2\n",
    "\n",
    "\n",
    "def sortPageRank(pr: dict, top: int = None) -> dict:\n",
    "    \"\"\" Sort component based of \"PageRank\"\n",
    "    Args:\n",
    "        pr (dict): dict containing rank of each node\n",
    "    Returns:\n",
    "        dict: sorted dict based on rank\n",
    "    \"\"\"\n",
    "    if not top:\n",
    "        top = len(pr)\n",
    "    return dict(sorted(pr.items(), key=operator.itemgetter(1), reverse=True)[:top])\n",
    "\n",
    "\n",
    "def rank(pr: dict, query: set) -> dict:\n",
    "    \"\"\" Get rank of connected component.\n",
    "    Args:\n",
    "        pr (dict): dict containing rank of each node\n",
    "        query (set): set of nodes.\n",
    "    Returns:\n",
    "        dict: sorted nodes based on rank\n",
    "    \"\"\"\n",
    "    results = dict((k, pr[k]) for k in query)\n",
    "    return sortPageRank(results)"
   ]
  },
  {
   "cell_type": "markdown",
   "metadata": {},
   "source": [
    "##### Preprocess\n",
    "\n",
    "Next, we need a function to preprocess our data by converting it from gps coordinates to a log of contacts. The resulting data should consist of the following fields:\n",
    "- datetime: when contact occured\n",
    "- source: the user\n",
    "- target: the users' contact"
   ]
  },
  {
   "cell_type": "code",
   "execution_count": null,
   "metadata": {},
   "outputs": [],
   "source": [
    "def preprocess(filepath: str, days: int = 7) -> pd.core.frame.DataFrame:\n",
    "    \"\"\" Preprocess data.\n",
    "    Args:\n",
    "        filepath (str): path of file\n",
    "        days (int): number of days to process\n",
    "    Returns:\n",
    "        pd.core.frame.DataFrame: new preprocessed dataframe object\n",
    "    \"\"\"\n",
    "    rename = {\"RecordedAtTime\": \"datetime\", \"VehicleRef\": \"id\",\n",
    "              \"VehicleLocation.Latitude\": \"latitude\", \"VehicleLocation.Longitude\": \"longitude\"}\n",
    "    headers = list(rename.keys())\n",
    "    df = pd.read_csv(filepath, usecols=headers, parse_dates=[headers[0]])\n",
    "    df.rename(columns=rename, inplace=True)\n",
    "    df.sort_values(by=[\"datetime\", \"latitude\", \"longitude\"],\n",
    "                   inplace=True, ignore_index=True)\n",
    "    df.id = df.id.astype('category').cat.codes\n",
    "\n",
    "    start_date = df.datetime.min().normalize()\n",
    "    end_date = (start_date + timedelta(days=days)).normalize()\n",
    "\n",
    "    mask = (df['datetime'] < end_date)\n",
    "    df = df.loc[mask]\n",
    "\n",
    "    temp = []\n",
    "    cnt = len(df)\n",
    "\n",
    "    for source_idx, source_row in df.iterrows():\n",
    "        for target_idx in range(source_idx + 1, cnt):\n",
    "            target_row = df.loc[target_idx]\n",
    "            if (withinTime(source_row, target_row) and withinDistance(source_row, target_row)):\n",
    "                if (source_row.id != target_row.id):\n",
    "                    temp.append([meanTimestamp(source_row, target_row),\n",
    "                                 source_row.id, target_row.id])\n",
    "                    temp.append([meanTimestamp(target_row, source_row),\n",
    "                                 target_row.id, source_row.id])\n",
    "            else:\n",
    "                break\n",
    "\n",
    "    newDF = pd.DataFrame(temp, columns=COLUMN_NAMES)\n",
    "    return newDF"
   ]
  },
  {
   "cell_type": "markdown",
   "metadata": {},
   "source": [
    "##### Preprocess Data\n",
    "\n",
    "With all our functions defined, we can now load our data and proprocess it into the desired format."
   ]
  },
  {
   "cell_type": "code",
   "execution_count": null,
   "metadata": {},
   "outputs": [],
   "source": [
    "filepath = \"mta_1706.csv\"\n",
    "df = preprocess(filepath)"
   ]
  },
  {
   "cell_type": "markdown",
   "metadata": {},
   "source": [
    "##### Construct Graph\n",
    "\n",
    "Having converted our dataset of gps coordinates to a log of contacts, we can now begin to analyze our data. Our log of contacts can essentially be represented as an undirected graph. Thus, the next step is to create a graph from our new dataset.\n",
    "\n",
    "Having constructed our graph, we can now began to analyze our dataset. One way for to help us understand the data is to visualize it. Below, we create a visualization of our network. In addition, it may also be helpful to get some basic stats such as number of nodes and number of edges."
   ]
  },
  {
   "cell_type": "code",
   "execution_count": null,
   "metadata": {},
   "outputs": [],
   "source": [
    "G = nx.from_pandas_edgelist(df)\n",
    "nx.draw_networkx(G)\n",
    "plt.show()\n",
    "\n",
    "print(f\"Nodes: {G.number_of_nodes()}\")\n",
    "print(f\"Edges: {G.number_of_edges()}\")\n",
    "\n"
   ]
  },
  {
   "cell_type": "markdown",
   "metadata": {},
   "source": [
    "##### Rank\n",
    "\n",
    "Having created a graph data structure, we can now perform our first analysis, computing the rank of each individual. We use an algorithm similar to PageRank, an algorithm originally developed by Google to rank web pages.\n",
    "\n",
    "\"PageRank works by counting the number and quality of links to a page to determine a rough estimate of how important the website is. The underlying assumption is that more important websites are likely to receive more links from other websites.\"\n",
    "\n",
    "One major here is that our graph is undirected. However, this can be resolved by making every undirected edge into two directed edges. "
   ]
  },
  {
   "cell_type": "code",
   "execution_count": null,
   "metadata": {},
   "outputs": [],
   "source": [
    "pr = sortPageRank(nx.pagerank(G, 0.4))"
   ]
  },
  {
   "cell_type": "markdown",
   "metadata": {},
   "source": [
    "##### Connected Component\n",
    "\n",
    "Next, we use a simple search algorithm to find all connected components. Now that we have both connected components and our rankings, we can now combine the two results and directly utilize them in helping us contact trace and prevent further spread of the virus. \n",
    "\n",
    "As an example, here we compute the rank of the largest connected component. However, in practice, when an infected individual is identified, we find the connected component that it belongs to. After identifying the connected component, we then sort then in order of their ranking which was derived from our PageRank like algorithm. Now given an infected individual, we can now easily identify those potentially infected and the best order to reach out to them. "
   ]
  },
  {
   "cell_type": "code",
   "execution_count": null,
   "metadata": {},
   "outputs": [],
   "source": [
    "cc = max(nx.connected_components(G), key=len)\n",
    "rankedCC = rank(pr, cc)\n",
    "\n",
    "print(\"rank\\tid\\tscore\")\n",
    "for i, (k, v) in enumerate(rankedCC.items(), 1):\n",
    "    print(\"%d\\t%s\\t%f\" %(i, k, v))"
   ]
  },
  {
   "cell_type": "markdown",
   "metadata": {},
   "source": [
    "## Conclusion\n",
    "\n",
    "Contact Tracer is a contact tracing system that consists of two main parts: a mobile app to record an individuals contacts via Bluetooth signals and a back end analytics system designed to make sense of the data and ultimately, prevent the spread of viruses and epidemics. Here we use data gathered from NYC MTA buses service to simulate real contact data. We transform it into a log of contacts, and then create a network from those logs. Having created a network, we can now perform useful analysis such as identifying Connected Components to see where a virus may have spread and Ranking, where we can quantify the importance and potential for a person to spread a disease so that we may proritize contacting those individuals. "
   ]
  }
 ],
 "metadata": {
  "kernelspec": {
   "display_name": "Python 3",
   "language": "python",
   "name": "python3"
  },
  "language_info": {
   "codemirror_mode": {
    "name": "ipython",
    "version": 3
   },
   "file_extension": ".py",
   "mimetype": "text/x-python",
   "name": "python",
   "nbconvert_exporter": "python",
   "pygments_lexer": "ipython3",
   "version": "3.7.6"
  }
 },
 "nbformat": 4,
 "nbformat_minor": 2
}
